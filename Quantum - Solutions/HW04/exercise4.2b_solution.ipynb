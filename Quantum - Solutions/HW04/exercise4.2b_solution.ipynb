{
 "cells": [
  {
   "cell_type": "code",
   "execution_count": 1,
   "metadata": {},
   "outputs": [],
   "source": [
    "import qiskit\n",
    "from qiskit import Aer"
   ]
  },
  {
   "cell_type": "code",
   "execution_count": 2,
   "metadata": {},
   "outputs": [],
   "source": [
    "%matplotlib inline"
   ]
  },
  {
   "cell_type": "code",
   "execution_count": 3,
   "metadata": {},
   "outputs": [
    {
     "data": {
      "image/png": "[encoded data removed]",
      "text/plain": [
       "<Figure size 387.452x204.68 with 1 Axes>"
      ]
     },
     "execution_count": 3,
     "metadata": {},
     "output_type": "execute_result"
    }
   ],
   "source": [
    "# construct the circuit\n",
    "\n",
    "# 2 qubits and 2 classical bits\n",
    "circ = qiskit.QuantumCircuit(2, 2)\n",
    "\n",
    "# Hadamard gate on qubit 0, putting this qubit in superposition\n",
    "circ.h(0)\n",
    "# CX (CNOT) gate on control qubit 0 and target qubit 1, putting the qubits in a Bell state\n",
    "circ.cx(0, 1)\n",
    "\n",
    "circ.barrier(range(2))\n",
    "# map the quantum measurement to the classical bits\n",
    "circ.measure(range(2), range(2))\n",
    "\n",
    "circ.draw()"
   ]
  },
  {
   "cell_type": "code",
   "execution_count": 4,
   "metadata": {},
   "outputs": [
    {
     "name": "stdout",
     "output_type": "stream",
     "text": [
      "counts: {'00': 498, '11': 526}\n"
     ]
    }
   ],
   "source": [
    "# use Aer's qasm_simulator\n",
    "backend = Aer.get_backend('qasm_simulator')\n",
    "\n",
    "# execute the circuit on the qasm simulator\n",
    "job = qiskit.execute(circ, backend, shots=1024)\n",
    "\n",
    "result = job.result()\n",
    "# counts should be 50% on average; actual numbers can vary at each run\n",
    "print('counts:', result.get_counts(circ))"
   ]
  }
 ],
 "metadata": {
  "kernelspec": {
   "display_name": "Python 3",
   "language": "python",
   "name": "python3"
  },
  "language_info": {
   "codemirror_mode": {
    "name": "ipython",
    "version": 3
   },
   "file_extension": ".py",
   "mimetype": "text/x-python",
   "name": "python",
   "nbconvert_exporter": "python",
   "pygments_lexer": "ipython3",
   "version": "3.8.4"
  }
 },
 "nbformat": 4,
 "nbformat_minor": 4
}
