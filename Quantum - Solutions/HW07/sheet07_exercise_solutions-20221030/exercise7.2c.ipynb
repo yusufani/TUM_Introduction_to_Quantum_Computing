{
 "cells": [
  {
   "cell_type": "code",
   "execution_count": 1,
   "metadata": {},
   "outputs": [],
   "source": [
    "import numpy as np\n",
    "import qiskit\n",
    "from qiskit import Aer"
   ]
  },
  {
   "cell_type": "code",
   "execution_count": 2,
   "metadata": {},
   "outputs": [],
   "source": [
    "%matplotlib inline"
   ]
  },
  {
   "cell_type": "code",
   "execution_count": 3,
   "metadata": {},
   "outputs": [],
   "source": [
    "# 3 qubits\n",
    "circ = qiskit.QuantumCircuit(3)"
   ]
  },
  {
   "cell_type": "code",
   "execution_count": 4,
   "metadata": {},
   "outputs": [
    {
     "data": {
      "text/plain": [
       "<qiskit.extensions.standard.barrier.Barrier at 0x27b3d86fe80>"
      ]
     },
     "execution_count": 4,
     "metadata": {},
     "output_type": "execute_result"
    }
   ],
   "source": [
    "# prepare initial state\n",
    "# input qubit |psi> = Ry(pi/3) |0>\n",
    "circ.ry(np.pi/3, 0)\n",
    "# entangle the second and third qubit\n",
    "circ.h(1)\n",
    "circ.cx(1, 2)\n",
    "# barrier to prevent gate reordering for optimization\n",
    "circ.barrier(range(3))"
   ]
  },
  {
   "cell_type": "code",
   "execution_count": 5,
   "metadata": {},
   "outputs": [
    {
     "data": {
      "text/plain": [
       "<qiskit.extensions.standard.cz.CzGate at 0x27b3d89d208>"
      ]
     },
     "execution_count": 5,
     "metadata": {},
     "output_type": "execute_result"
    }
   ],
   "source": [
    "# actual teleportation circuit\n",
    "circ.cx(0, 1)\n",
    "circ.h(0)\n",
    "circ.barrier(range(3))\n",
    "circ.cx(1, 2)\n",
    "circ.cz(0, 2)"
   ]
  },
  {
   "cell_type": "code",
   "execution_count": 6,
   "metadata": {},
   "outputs": [
    {
     "data": {
      "image/png": "[encoded data removed]",
      "text/plain": [
       "<Figure size 662.2x198.66 with 1 Axes>"
      ]
     },
     "execution_count": 6,
     "metadata": {},
     "output_type": "execute_result"
    }
   ],
   "source": [
    "circ.draw()"
   ]
  },
  {
   "cell_type": "code",
   "execution_count": 7,
   "metadata": {},
   "outputs": [
    {
     "name": "stdout",
     "output_type": "stream",
     "text": [
      "[0.4330127+0.j 0.4330127+0.j 0.4330127+0.j 0.4330127+0.j 0.25     +0.j\n",
      " 0.25     +0.j 0.25     +0.j 0.25     +0.j]\n"
     ]
    }
   ],
   "source": [
    "# use Aer's statevector simulator\n",
    "backend = Aer.get_backend('statevector_simulator')\n",
    "\n",
    "# execute the circuit on the simulator\n",
    "job = qiskit.execute(circ, backend)\n",
    "\n",
    "result = job.result()\n",
    "statevector = result.get_statevector(circ)\n",
    "# entries are (\\sqrt(3)/2, 1/2), multiplied by 1/2 due to the computational basis superposition of the first two qubits\n",
    "print(statevector)"
   ]
  }
 ],
 "metadata": {
  "kernelspec": {
   "display_name": "Python 3",
   "language": "python",
   "name": "python3"
  },
  "language_info": {
   "codemirror_mode": {
    "name": "ipython",
    "version": 3
   },
   "file_extension": ".py",
   "mimetype": "text/x-python",
   "name": "python",
   "nbconvert_exporter": "python",
   "pygments_lexer": "ipython3",
   "version": "3.6.8"
  }
 },
 "nbformat": 4,
 "nbformat_minor": 2
}
