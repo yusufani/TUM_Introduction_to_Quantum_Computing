{
 "cells": [
  {
   "cell_type": "code",
   "execution_count": 1,
   "metadata": {},
   "outputs": [],
   "source": [
    "include(\"../src/Qaintessent.jl\")\n",
    "using .Qaintessent"
   ]
  },
  {
   "cell_type": "code",
   "execution_count": 2,
   "metadata": {},
   "outputs": [
    {
     "data": {
      "text/plain": [
       "\n",
       "    1 ————————•—————x————[Ry]———x———\n",
       "              |     |           |   \n",
       "    2 ———————[Rx]———•————[Pϕ]———x———\n",
       "              |     |               \n",
       "    3 —[H ]——————————————[Rθ]——[S ]—\n",
       "              |     |               \n",
       "    4 ————————•—————•———————————•———\n",
       "                    |           |   \n",
       "    5 ——————————————x——————————[T†]—\n"
      ]
     },
     "execution_count": 2,
     "metadata": {},
     "output_type": "execute_result"
    }
   ],
   "source": [
    "# construct and show a circuit gate chain\n",
    "N = 5\n",
    "cgc = CircuitGateChain{N}([\n",
    "    single_qubit_circuit_gate(3, HadamardGate(), N),\n",
    "    controlled_circuit_gate((1, 4), 2, RxGate(√0.2), N),\n",
    "    controlled_circuit_gate((2,4), (1,5), SwapGate(), N),\n",
    "    single_qubit_circuit_gate(2, PhaseShiftGate(0.2π), N),\n",
    "    single_qubit_circuit_gate(3, RotationGate(0.1π, [1, 0, 0]), N),\n",
    "    single_qubit_circuit_gate(1, RyGate(1.4π), N),\n",
    "    two_qubit_circuit_gate(1,2, SwapGate(), N),\n",
    "    controlled_circuit_gate(4, 5, TdagGate(), N),\n",
    "    single_qubit_circuit_gate(3, SGate(), N),\n",
    "])"
   ]
  },
  {
   "cell_type": "code",
   "execution_count": 3,
   "metadata": {},
   "outputs": [
    {
     "data": {
      "text/plain": [
       "\n",
       "    1 —[H ]——[Pϕ]——[Pϕ]——[Pϕ]———————————————————————————————————————x—————————\n",
       "              |     |     |                                         |         \n",
       "    2 ————————•————————————————[H ]——[Pϕ]——[Pϕ]———————————————————————————x———\n",
       "                    |     |           |     |                       |     |   \n",
       "    3 ——————————————•—————————————————•——————————[H ]——[Pϕ]———————————————x———\n",
       "                          |                 |           |           |         \n",
       "    4 ————————————————————•—————————————————•———————————•————[H ]———x—————————\n"
      ]
     },
     "execution_count": 3,
     "metadata": {},
     "output_type": "execute_result"
    }
   ],
   "source": [
    "# quantum Fourier transform circuit\n",
    "qft_circuit(4)"
   ]
  }
 ],
 "metadata": {
  "kernelspec": {
   "display_name": "Julia 1.4.0",
   "language": "julia",
   "name": "julia-1.4"
  },
  "language_info": {
   "file_extension": ".jl",
   "mimetype": "application/julia",
   "name": "julia",
   "version": "1.4.0"
  }
 },
 "nbformat": 4,
 "nbformat_minor": 2
}
